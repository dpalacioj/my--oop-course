{
 "cells": [
  {
   "cell_type": "markdown",
   "metadata": {},
   "source": [
    "# ¿Qué pasa si no uso POO?"
   ]
  },
  {
   "cell_type": "markdown",
   "metadata": {},
   "source": [
    "La programación secualcia puede volverse problemática cuando manejamos grandes cantidades de código. Es aquí donde la programación orientada a objetos se vuelve especialmente útil."
   ]
  },
  {
   "cell_type": "code",
   "execution_count": 2,
   "metadata": {},
   "outputs": [
    {
     "name": "stdout",
     "output_type": "stream",
     "text": [
      "s23\n"
     ]
    }
   ],
   "source": [
    "celular1_marca = \"samsung\"\n",
    "celular2_marca = \"apple\"\n",
    "celular3_marca = \"huawei\"\n",
    "\n",
    "celular1_modelo = \"s23\"\n",
    "celular2_modelo = \"iphone 15 pro\"\n",
    "celular3_modelo = \"p20 pro\"\n",
    "\n",
    "celular1_camaraT = \"48mp\"\n",
    "celular2_camaraT = \"48mp\"\n",
    "celular3_camaraT = \"24mp\"\n",
    "\n",
    "print(celular1_modelo)"
   ]
  },
  {
   "cell_type": "markdown",
   "metadata": {},
   "source": [
    "**1. Clase:** Es una plantilla apra crear objetos. Define las características y comportamientos que tendrán los objetos creados a partir de ella.\n",
    "\n",
    "**2. Convención de nomneclatura:** En POO, usamos **PascalCase** para nombrar las clases. Esto significa que cada palabra en el nombre de la clase comienza con una letra mayúscula.\n",
    "\n",
    "**3. Objeto:** Es una instancia de una clase. Cuando creamos un objeto, estamos instanciando una clase.\n",
    "\n",
    "**4. Atributo:** Son las características o propiedades de un objetos. Los **atributos de instancia** pueden variar entre objetos de la misma clase. Los **atributos estáticos** son iguales para todos los objetos de una clase.\n",
    "\n",
    "Los objetos se almacenan en la memoria RAM mientras el programa está en ejecución y se eliminan cuando el programa termina."
   ]
  },
  {
   "cell_type": "code",
   "execution_count": 6,
   "metadata": {},
   "outputs": [
    {
     "name": "stdout",
     "output_type": "stream",
     "text": [
      "<__main__.Celular object at 0x7fd04a08ee60>\n",
      "48mp\n",
      "48mp\n"
     ]
    }
   ],
   "source": [
    "class Celular():\n",
    "    marca = \"samsung\"\n",
    "    modelo = \"s23\"\n",
    "    camara = \"48mp\"\n",
    "\n",
    "celular1 = Celular() # Objeto de la clase celular\n",
    "celular2 = Celular() # Objeto de la clase celular\n",
    "print(celular1)\n",
    "print(celular1.camara)\n",
    "print(celular2.camara)"
   ]
  },
  {
   "cell_type": "markdown",
   "metadata": {},
   "source": [
    "Lo anterior son atributos estaticos. Todos los objetos que cree tendran esas propiedades. \n",
    "Notese que el objeto Celular es una propiedad de otro objeto principal que es `__main__`. `__main__` es el modulo que estamos manejando."
   ]
  },
  {
   "cell_type": "markdown",
   "metadata": {},
   "source": [
    "Una propiedad es una variable. En el ejemplo tenemos que los atributos o propiedades son camara, marca, modelo.\n",
    "Si queremos muchos tipos diferentes de celulares no pueden ser fijos. Imaginemonos que necesitamos varios celulares..."
   ]
  },
  {
   "cell_type": "markdown",
   "metadata": {},
   "source": [
    "## Atributos"
   ]
  },
  {
   "cell_type": "markdown",
   "metadata": {},
   "source": [
    "Son variables que pertenecen a una clase.\n",
    "Yo tambien puedo cambiar los valores de los atributos."
   ]
  },
  {
   "cell_type": "code",
   "execution_count": 7,
   "metadata": {},
   "outputs": [
    {
     "name": "stdout",
     "output_type": "stream",
     "text": [
      "apple\n"
     ]
    }
   ],
   "source": [
    "celular1 = Celular()\n",
    "celular1.marca = \"apple\"\n",
    "print(celular1.marca)"
   ]
  },
  {
   "cell_type": "markdown",
   "metadata": {},
   "source": [
    "Notese que en el script anterior cambie la marca de samsung a apple, pero eso no es practico, porque entonces para que cree el objeto con la marca samsung si lo iba a cambiar a apple."
   ]
  },
  {
   "cell_type": "markdown",
   "metadata": {},
   "source": [
    "Cada vez que instaciamos las iguiente clase\n",
    "`self.marca` en este caso, marca es una propiedad de `self`.\n",
    "`= marca` en este caso estoy accediendo a un parametro. Este es un valor que le camos a pasar.\n",
    "notese que es diferente `self.marca` a `= marca`\n",
    "\n",
    "`def __init__` es una funcion que se ejecuta automaticamente cada vez que creamos un objeto.\n",
    "Los atributos de instancia son aquellos que se asignan cuando creamos el objeto.\n",
    "`def __init__` es donde se crean los atributos de instancia. Este se llama el constructor."
   ]
  },
  {
   "cell_type": "code",
   "execution_count": 9,
   "metadata": {},
   "outputs": [],
   "source": [
    "class Celular:\n",
    "    def __init__(self, marca, modelo, camara):\n",
    "        self.marca = marca\n",
    "        self.modelo = modelo\n",
    "        self.camara = camara"
   ]
  },
  {
   "cell_type": "code",
   "execution_count": 10,
   "metadata": {},
   "outputs": [
    {
     "name": "stdout",
     "output_type": "stream",
     "text": [
      "samsung\n"
     ]
    }
   ],
   "source": [
    "celular1 = Celular(\"samsung\", \"s23\", \"48mp\")\n",
    "print(celular1.marca)"
   ]
  },
  {
   "cell_type": "code",
   "execution_count": 11,
   "metadata": {},
   "outputs": [
    {
     "name": "stdout",
     "output_type": "stream",
     "text": [
      "apple\n"
     ]
    }
   ],
   "source": [
    "celular2 = Celular(\"apple\", \"15 pro\", \"90mp\")\n",
    "print(celular2.marca)"
   ]
  },
  {
   "cell_type": "markdown",
   "metadata": {},
   "source": [
    "## Metodos"
   ]
  },
  {
   "cell_type": "markdown",
   "metadata": {},
   "source": [
    "Un objeto puede tener propiedades y hacer acciones. \n",
    "Es decir, un objeto puede tener atributos y metodos.\n",
    "\n",
    "Un metodo es una funcion.\n",
    "Todas las funciones que creemos dentro de una clase se llaman metodos.\n",
    "\n",
    "* Las funciones o metodos de una clase deben de tener el parametro `self` para poder tener la notacion del punto al invocarlas. Asi puede usar la notacion del punto."
   ]
  },
  {
   "cell_type": "code",
   "execution_count": 19,
   "metadata": {},
   "outputs": [
    {
     "ename": "TypeError",
     "evalue": "Celular.llamar() takes 0 positional arguments but 1 was given",
     "output_type": "error",
     "traceback": [
      "\u001b[0;31m---------------------------------------------------------------------------\u001b[0m",
      "\u001b[0;31mTypeError\u001b[0m                                 Traceback (most recent call last)",
      "Cell \u001b[0;32mIn[19], line 16\u001b[0m\n\u001b[1;32m     13\u001b[0m         \u001b[38;5;28mprint\u001b[39m(\u001b[38;5;124m\"\u001b[39m\u001b[38;5;124mAdios, no tengo mas por decir\u001b[39m\u001b[38;5;124m\"\u001b[39m)\n\u001b[1;32m     15\u001b[0m celular1 \u001b[38;5;241m=\u001b[39m Celular(\u001b[38;5;124m\"\u001b[39m\u001b[38;5;124mapple\u001b[39m\u001b[38;5;124m\"\u001b[39m, \u001b[38;5;124m\"\u001b[39m\u001b[38;5;124m15 pro\u001b[39m\u001b[38;5;124m\"\u001b[39m, \u001b[38;5;124m\"\u001b[39m\u001b[38;5;124m90mp\u001b[39m\u001b[38;5;124m\"\u001b[39m)\n\u001b[0;32m---> 16\u001b[0m \u001b[38;5;28mprint\u001b[39m(\u001b[43mcelular1\u001b[49m\u001b[38;5;241;43m.\u001b[39;49m\u001b[43mllamar\u001b[49m\u001b[43m(\u001b[49m\u001b[43m)\u001b[49m)\n",
      "\u001b[0;31mTypeError\u001b[0m: Celular.llamar() takes 0 positional arguments but 1 was given"
     ]
    }
   ],
   "source": [
    "# En esta clase cuando llamemos al metodo llamar o colgar vamos a tener un error porque no pasamos el parametro self\n",
    "\n",
    "class Celular:\n",
    "    def __init__(self, marca, modelo, camara):\n",
    "        self.marca = marca\n",
    "        self.modelo = modelo\n",
    "        self.camara = camara\n",
    "\n",
    "    def llamar(): # Falta `self` como primer parametro\n",
    "        print(\"Estas llamando a alguien\")\n",
    "\n",
    "    def colgar(): # Falta `self` como primer parametro\n",
    "        print(\"Adios, no tengo mas por decir\")\n",
    "\n",
    "celular1 = Celular(\"apple\", \"15 pro\", \"90mp\")\n",
    "print(celular1.llamar())"
   ]
  },
  {
   "cell_type": "code",
   "execution_count": 20,
   "metadata": {},
   "outputs": [
    {
     "name": "stdout",
     "output_type": "stream",
     "text": [
      "Estas llamando a alguien\n",
      "None\n"
     ]
    }
   ],
   "source": [
    "class Celular:\n",
    "    def __init__(self, marca, modelo, camara):\n",
    "        self.marca = marca\n",
    "        self.modelo = modelo\n",
    "        self.camara = camara\n",
    "\n",
    "    def llamar(self):\n",
    "        print(\"Estas llamando a alguien\")\n",
    "\n",
    "    def colgar(self):\n",
    "        print(\"Adios, no tengo mas por decir\")\n",
    "\n",
    "celular1 = Celular(\"apple\", \"15 pro\", \"90mp\")\n",
    "print(celular1.llamar())"
   ]
  },
  {
   "cell_type": "code",
   "execution_count": 23,
   "metadata": {},
   "outputs": [
    {
     "name": "stdout",
     "output_type": "stream",
     "text": [
      "Estas haciendo un llamado desde un: Iphone 15 pro\n",
      "None\n"
     ]
    }
   ],
   "source": [
    "class Celular:\n",
    "    def __init__(self, marca, modelo, camara):\n",
    "        self.marca = marca\n",
    "        self.modelo = modelo\n",
    "        self.camara = camara\n",
    "\n",
    "    def llamar(self):\n",
    "        print(f\"Estas haciendo un llamado desde un: {self.modelo}\") # Siempre se usa la palabra self\n",
    "\n",
    "    def colgar(self):\n",
    "        print(\"Adios, no tengo mas por decir\")\n",
    "\n",
    "celular1 = Celular(\"apple\", \"Iphone 15 pro\", \"90mp\")\n",
    "print(celular1.llamar())"
   ]
  },
  {
   "cell_type": "markdown",
   "metadata": {},
   "source": [
    "### Ejercicios 1"
   ]
  },
  {
   "cell_type": "code",
   "execution_count": 24,
   "metadata": {},
   "outputs": [
    {
     "name": "stdout",
     "output_type": "stream",
     "text": [
      "23\n"
     ]
    }
   ],
   "source": [
    "class Estudiante:\n",
    "    def __init__(self, nombre, edad, grado):\n",
    "        self.nombre = nombre\n",
    "        self.edad = edad\n",
    "        self.grado = grado\n",
    "\n",
    "pedro = Estudiante(\"Pedro\", 23, 4)\n",
    "\n",
    "print(pedro.edad)"
   ]
  },
  {
   "cell_type": "markdown",
   "metadata": {},
   "source": [
    "Ahora esta clase implica interaccion con el usuario:"
   ]
  },
  {
   "cell_type": "code",
   "execution_count": null,
   "metadata": {},
   "outputs": [
    {
     "name": "stdout",
     "output_type": "stream",
     "text": [
      "\n",
      "        DATOS DEL ESTUDIANTE: \n",
      " \n",
      "\n",
      "        Nombre: pedro \n",
      "\n",
      "        Edad: 23 \n",
      "\n",
      "        Grado: 1 \n",
      "       \n",
      "\n",
      "Estudiando...\n",
      "Estudiando...\n",
      "Estudiando...\n",
      "Estudiando...\n"
     ]
    }
   ],
   "source": [
    "class Estudiante:\n",
    "    def __init__(self, nombre, edad, grado):\n",
    "        self.nombre = nombre\n",
    "        self.edad = edad\n",
    "        self.grado = grado\n",
    "\n",
    "    def estudiar(self):\n",
    "        print(\"Estudiando...\")\n",
    "\n",
    "nombre = input(\"Digame su nombre:\")\n",
    "edad = input(\"Ahora su edad:\")\n",
    "grado = input(\"Por ultimo, su grado:\")\n",
    "\n",
    "estudiante = Estudiante(nombre,edad,grado)\n",
    "\n",
    "print(f\"\"\"\n",
    "        DATOS DEL ESTUDIANTE: \\n \\n\n",
    "        Nombre: {estudiante.nombre} \\n\n",
    "        Edad: {estudiante.edad} \\n\n",
    "        Grado: {estudiante.grado} \\n       \n",
    "\"\"\")\n",
    "\n",
    "while True:\n",
    "    estudiar = input()\n",
    "    if (estudiar.lower() == \"estudiar\"):\n",
    "        estudiante.estudiar()"
   ]
  },
  {
   "cell_type": "markdown",
   "metadata": {},
   "source": [
    "## Herencia"
   ]
  },
  {
   "cell_type": "markdown",
   "metadata": {},
   "source": [
    "Nos permite reutilizar codigo.\n",
    "Tambien se pueden reescribir todos los metodos."
   ]
  },
  {
   "cell_type": "code",
   "execution_count": 8,
   "metadata": {},
   "outputs": [],
   "source": [
    "class Persona:\n",
    "    def __init__(self, nombre, edad, nacionalidad):\n",
    "        self.nombre = nombre\n",
    "        self.edad = edad\n",
    "        self.nacionalidad = nacionalidad\n",
    "    \n",
    "    def hablar(self):\n",
    "        print(\"Hola, quiero que aprendas a programar...\")\n",
    "\n",
    "\n",
    "class Empleado(Persona):\n",
    "    pass"
   ]
  },
  {
   "cell_type": "markdown",
   "metadata": {},
   "source": [
    "En el siguiente ejemplo, la clase `Empleado` herada todos los atributos de `Persona`"
   ]
  },
  {
   "cell_type": "code",
   "execution_count": 5,
   "metadata": {},
   "outputs": [
    {
     "data": {
      "text/plain": [
       "43"
      ]
     },
     "execution_count": 5,
     "metadata": {},
     "output_type": "execute_result"
    }
   ],
   "source": [
    "roberto = Empleado(\"Tomas\", 43, \"Colombiano\")\n",
    "\n",
    "roberto.edad"
   ]
  },
  {
   "cell_type": "code",
   "execution_count": 10,
   "metadata": {},
   "outputs": [],
   "source": [
    "class Empleado(Persona):\n",
    "    def __init__(self, nombre, edad, nacionalidad, trabajo, salario):\n",
    "        super().__init__(nombre, edad, nacionalidad)\n",
    "        self.trabajo = trabajo\n",
    "        self.salario = salario\n",
    "        "
   ]
  },
  {
   "cell_type": "code",
   "execution_count": 11,
   "metadata": {},
   "outputs": [
    {
     "name": "stdout",
     "output_type": "stream",
     "text": [
      "Hola, quiero que aprendas a programar...\n"
     ]
    }
   ],
   "source": [
    "felipe = Empleado(\"Felipe\", 44, \"Polaco\", \"Programador\", 150000)\n",
    "\n",
    "felipe.hablar()"
   ]
  },
  {
   "cell_type": "markdown",
   "metadata": {},
   "source": [
    "El ejemplo anterior se conoce como `Herencia Simple`. Donde empleado hereda de persona.\n",
    "El otro tipo de herencia se llama `Herencia Jerárquica`, donde todos dependerian de persona en este caso.\n",
    "Tambien hay otro caso que es herencia multiple. El cual lo veremos a continuacion..."
   ]
  },
  {
   "cell_type": "markdown",
   "metadata": {},
   "source": [
    "#### Herencia Multiple"
   ]
  },
  {
   "cell_type": "markdown",
   "metadata": {},
   "source": [
    "En este caso tenemos dos clases padres."
   ]
  },
  {
   "cell_type": "code",
   "execution_count": 22,
   "metadata": {},
   "outputs": [],
   "source": [
    "class Artista:\n",
    "    def __init__(self, habilidad):\n",
    "        self.habilidad = habilidad\n",
    "\n",
    "    def mostrar_habilidad(self):\n",
    "        return f\"Mi habilidad es: {self.habilidad}\""
   ]
  },
  {
   "cell_type": "code",
   "execution_count": 23,
   "metadata": {},
   "outputs": [],
   "source": [
    "# Heredamos de cada clase diferentes propiedades\n",
    "\n",
    "class EmpleadoArtista(Persona,Artista):\n",
    "    def __init__(self, nombre, edad, nacionalidad, habilidad, salario, empresa):\n",
    "        Persona.__init__(self,nombre,edad,nacionalidad)\n",
    "        Artista.__init__(self,habilidad)\n",
    "        self.salario = salario\n",
    "        self.empresa = empresa\n",
    "\n",
    "    def presentarse(self):\n",
    "        return f\"{super().mostrar_habilidad()}\" # Al usar super() indicamos que es un metodo que traemos desde mas arriba"
   ]
  },
  {
   "cell_type": "code",
   "execution_count": 24,
   "metadata": {},
   "outputs": [
    {
     "data": {
      "text/plain": [
       "'Mi habilidad es: Programador'"
      ]
     },
     "execution_count": 24,
     "metadata": {},
     "output_type": "execute_result"
    }
   ],
   "source": [
    "felipe = EmpleadoArtista(\"Felipe\", 44, \"Polaco\", \"Programador\", 150000, \"Amazon\")\n",
    "felipe.presentarse()"
   ]
  },
  {
   "cell_type": "code",
   "execution_count": 27,
   "metadata": {},
   "outputs": [
    {
     "data": {
      "text/plain": [
       "True"
      ]
     },
     "execution_count": 27,
     "metadata": {},
     "output_type": "execute_result"
    }
   ],
   "source": [
    "# De esta manera miramos si EmpleadoArtista es una subclase de Artista\n",
    "herencia = issubclass(EmpleadoArtista, Artista)\n",
    "herencia"
   ]
  },
  {
   "cell_type": "code",
   "execution_count": 28,
   "metadata": {},
   "outputs": [
    {
     "data": {
      "text/plain": [
       "True"
      ]
     },
     "execution_count": 28,
     "metadata": {},
     "output_type": "execute_result"
    }
   ],
   "source": [
    "# Asi comprobamos que felipe es una instancia de la clase EmpleadoArtista\n",
    "instancia = isinstance(felipe, EmpleadoArtista)\n",
    "instancia"
   ]
  },
  {
   "cell_type": "markdown",
   "metadata": {},
   "source": [
    "### MRO"
   ]
  },
  {
   "cell_type": "markdown",
   "metadata": {},
   "source": [
    "**Method Resolution Order:** Util para saber en que orden heredan metodos y atributos en las clases."
   ]
  },
  {
   "cell_type": "code",
   "execution_count": 30,
   "metadata": {},
   "outputs": [
    {
     "name": "stdout",
     "output_type": "stream",
     "text": [
      "Hola desde D\n"
     ]
    }
   ],
   "source": [
    "class A:\n",
    "    def hablar(self):\n",
    "        print(\"Hola desde A\")\n",
    "\n",
    "class B(A):\n",
    "    def hablar(self):\n",
    "        print(\"Hola desde B\")\n",
    "\n",
    "class C(A):\n",
    "    def hablar(self):\n",
    "        print(\"Hola desde C\")\n",
    "\n",
    "class D(B,C):\n",
    "    def hablar(self):\n",
    "        print(\"Hola desde D\")\n",
    "\n",
    "d = D()\n",
    "\n",
    "d.hablar()"
   ]
  },
  {
   "cell_type": "code",
   "execution_count": 31,
   "metadata": {},
   "outputs": [
    {
     "name": "stdout",
     "output_type": "stream",
     "text": [
      "Hola desde B\n"
     ]
    }
   ],
   "source": [
    "class A:\n",
    "    def hablar(self):\n",
    "        print(\"Hola desde A\")\n",
    "\n",
    "class B(A):\n",
    "    def hablar(self):\n",
    "        print(\"Hola desde B\")\n",
    "\n",
    "class C(A):\n",
    "    def hablar(self):\n",
    "        print(\"Hola desde C\")\n",
    "\n",
    "class D(B,C):\n",
    "    pass\n",
    "\n",
    "d = D()\n",
    "\n",
    "d.hablar()"
   ]
  },
  {
   "cell_type": "markdown",
   "metadata": {},
   "source": [
    "Notese que cuando no lo definimos explicitamente en D, nos devuelve es desde B. Esto es porque esta es la primer clase que hereda -> `class D(**B**,C)`"
   ]
  },
  {
   "cell_type": "code",
   "execution_count": 32,
   "metadata": {},
   "outputs": [
    {
     "name": "stdout",
     "output_type": "stream",
     "text": [
      "[<class '__main__.D'>, <class '__main__.B'>, <class '__main__.C'>, <class '__main__.A'>, <class 'object'>]\n"
     ]
    }
   ],
   "source": [
    "# Esta es una forma rapida de ver como se comporta el arbol\n",
    "print(D.mro())"
   ]
  },
  {
   "cell_type": "markdown",
   "metadata": {},
   "source": [
    "### Ejercicio 2"
   ]
  },
  {
   "cell_type": "markdown",
   "metadata": {},
   "source": [
    "**Ejercicio de herencia y uso de super**\n",
    "\n",
    "Crear un sistema para una escuela. En este sistema, vamos a tener dos clases principales: **Persona** y **Estudiante**. La clase **Persona** tendrá los atributos de **nombre** y **edad** y un método que imprima el nombre y la edad de la persona. La clase **Estudiante** heredará de la clase **Persona** y también tendrá un atributo adicional: **grado** y un método que imprima el grado del estudiante. <br/>\n",
    "\n",
    "Deberás utilizar super en el método de inicialización `init` para reutilizar el código de la clase padre (**Persona**). Luego crea una instancia de la clase **Estudiante** e imprime sus atributos y utiliza sus métodos para asegurarse de que todo funciona correctamente."
   ]
  },
  {
   "cell_type": "code",
   "execution_count": 38,
   "metadata": {},
   "outputs": [
    {
     "name": "stdout",
     "output_type": "stream",
     "text": [
      "Nombre:Pipe\n",
      "Edad: 24\n",
      "Grado: noveno\n"
     ]
    }
   ],
   "source": [
    "class Persona:\n",
    "    def __init__(self, nombre, edad):\n",
    "        self.nombre = nombre\n",
    "        self.edad = edad\n",
    "\n",
    "    def mostrar_datos(self):\n",
    "        print(f\"Nombre:{self.nombre}\")\n",
    "        print(f\"Edad: {self.edad}\")\n",
    "\n",
    "class Estudiante(Persona):\n",
    "    def __init__(self,nombre,edad,grado):\n",
    "        super().__init__(nombre, edad) # Notese que cuando usamos la funcion `super()`, self no se pasa como parametro\n",
    "        self.grado = grado\n",
    "\n",
    "    def mostrar_grado(self):\n",
    "        super().mostrar_datos()\n",
    "        print(f\"Grado: {self.grado}\")\n",
    "\n",
    "estudiante = Estudiante(\"Pipe\", 24, \"noveno\")\n",
    "estudiante.mostrar_grado()\n",
    "        "
   ]
  },
  {
   "cell_type": "markdown",
   "metadata": {},
   "source": [
    "**Ejercicio de herencia múltiple y MRO:**\n",
    "\n",
    "Imagina que estás modelando animales en un zoológico. Crear tres clases: \"Animal\", \"Mamífero\" y \"Ave\". La clase \"Animal\" debe tener un método llamado \"comer\". La clase \"Mamífero\" debe tener un método llamado \"amamantar\" y la clase \"Ave\" un método llamado \"volar\".\n",
    "\n",
    "Ahora, crea una clase \"Murciélago\" que herede de \"Mamífero\" y \"Ave\", en ese orden, y por lo tanto debe ser capaz de \"amamantar\" y \"volar\", además de \"comer\".\n",
    "\n",
    "Finalmente, juega con el orden de herencia de la clase \"Murciélago\" y observa cómo cambia el MRO y el comportamiento de los métodos al usar super()."
   ]
  },
  {
   "cell_type": "code",
   "execution_count": 39,
   "metadata": {},
   "outputs": [
    {
     "name": "stdout",
     "output_type": "stream",
     "text": [
      "El animal come\n",
      "El animal amamanta\n",
      "El animal vuela\n"
     ]
    }
   ],
   "source": [
    "class Animal:\n",
    "    def comer(self):\n",
    "        print(\"El animal come\")\n",
    "\n",
    "class Ave(Animal):\n",
    "    def volar(self):\n",
    "        print(\"El animal vuela\")\n",
    "\n",
    "class Mamifero(Animal):\n",
    "    def amamantar(self):\n",
    "        print(\"El animal amamanta\")\n",
    "\n",
    "class Murcielago(Mamifero,Ave):\n",
    "    pass\n",
    "\n",
    "murcielago = Murcielago()\n",
    "\n",
    "murcielago.comer()\n",
    "murcielago.amamantar()\n",
    "murcielago.volar()"
   ]
  },
  {
   "cell_type": "code",
   "execution_count": 40,
   "metadata": {},
   "outputs": [
    {
     "name": "stdout",
     "output_type": "stream",
     "text": [
      "[<class '__main__.Murcielago'>, <class '__main__.Mamifero'>, <class '__main__.Ave'>, <class '__main__.Animal'>, <class 'object'>]\n"
     ]
    }
   ],
   "source": [
    "print(Murcielago.mro())"
   ]
  },
  {
   "cell_type": "markdown",
   "metadata": {},
   "source": [
    "## Polimorfismo"
   ]
  },
  {
   "cell_type": "markdown",
   "metadata": {},
   "source": [
    "Aplico el mismo metodo a pesar de que tengan diferentes origenes.\n",
    "Envio un mismo mensaje, pero cambio el objeto.\n",
    "Python es un lenguaje de tipado dinamico... ESTO PERMITE QUE NO NECESARIAMENTE HAYA UNA INTERFAZ O UNA HERENCIA PARA QUE SE DE EL POLIMORFISMO."
   ]
  },
  {
   "cell_type": "code",
   "execution_count": 41,
   "metadata": {},
   "outputs": [
    {
     "name": "stdout",
     "output_type": "stream",
     "text": [
      "miau\n"
     ]
    },
    {
     "data": {
      "text/plain": [
       "'guau'"
      ]
     },
     "execution_count": 41,
     "metadata": {},
     "output_type": "execute_result"
    }
   ],
   "source": [
    "class Gato():\n",
    "    def sonido(self):\n",
    "        return \"miau\"\n",
    "    \n",
    "\n",
    "class Perro():\n",
    "    def sonido(self):\n",
    "        return \"guau\"\n",
    "    \n",
    "\n",
    "gato = Gato()\n",
    "perro = Perro()\n",
    "\n",
    "print(gato.sonido())\n",
    "perro.sonido()"
   ]
  },
  {
   "cell_type": "code",
   "execution_count": 43,
   "metadata": {},
   "outputs": [
    {
     "name": "stdout",
     "output_type": "stream",
     "text": [
      "guau\n"
     ]
    }
   ],
   "source": [
    "def hacer_sonido(animal):\n",
    "    print(animal.sonido())\n",
    "\n",
    "hacer_sonido(perro) # POLIMORFISMO DE FUNCION: El mismo metodo funciona diferente para diferentes argumentos. Aca cambia el argumento para la funcion.\n",
    "\n",
    "perro.sonido() # POLIMORFISMO DE OBJETO: El mismo metodo funciona diferente para diferentes objetos. Aca cambia el objeto para el metodo."
   ]
  },
  {
   "cell_type": "markdown",
   "metadata": {},
   "source": [
    "## Encapsulamiento"
   ]
  },
  {
   "cell_type": "markdown",
   "metadata": {},
   "source": [
    "Consiste en proteger los metodos de una clase.\n",
    "Permite ocultar cierta complejidad interna de la clase\n",
    "Permite mejorar la legibilidad del codigo."
   ]
  },
  {
   "cell_type": "code",
   "execution_count": 49,
   "metadata": {},
   "outputs": [
    {
     "name": "stdout",
     "output_type": "stream",
     "text": [
      "Valor\n"
     ]
    }
   ],
   "source": [
    "class MiClase:\n",
    "    def __init__(self):\n",
    "        self._atributo_privado = \"Valor\" # El `_` indica que es un atributo privado\n",
    "\n",
    "objeto = MiClase()\n",
    "\n",
    "print(objeto._atributo_privado)"
   ]
  },
  {
   "cell_type": "code",
   "execution_count": 51,
   "metadata": {},
   "outputs": [
    {
     "ename": "AttributeError",
     "evalue": "'MiClase' object has no attribute '__atributo_privado'",
     "output_type": "error",
     "traceback": [
      "\u001b[0;31m---------------------------------------------------------------------------\u001b[0m",
      "\u001b[0;31mAttributeError\u001b[0m                            Traceback (most recent call last)",
      "Cell \u001b[0;32mIn[51], line 6\u001b[0m\n\u001b[1;32m      3\u001b[0m         \u001b[38;5;28mself\u001b[39m\u001b[38;5;241m.\u001b[39m__atributo_privado \u001b[38;5;241m=\u001b[39m \u001b[38;5;124m\"\u001b[39m\u001b[38;5;124mValor\u001b[39m\u001b[38;5;124m\"\u001b[39m \u001b[38;5;66;03m# El `_` indica que es un atributo MUY privado\u001b[39;00m\n\u001b[1;32m      5\u001b[0m objeto \u001b[38;5;241m=\u001b[39m MiClase()\n\u001b[0;32m----> 6\u001b[0m \u001b[38;5;28mprint\u001b[39m(\u001b[43mobjeto\u001b[49m\u001b[38;5;241;43m.\u001b[39;49m\u001b[43m__atributo_privado\u001b[49m) \u001b[38;5;66;03m# Esto retornara un error porque es un atributo muy privado\u001b[39;00m\n",
      "\u001b[0;31mAttributeError\u001b[0m: 'MiClase' object has no attribute '__atributo_privado'"
     ]
    }
   ],
   "source": [
    "class MiClase:\n",
    "    def __init__(self):\n",
    "        self.__atributo_privado = \"Valor\" # El `_` indica que es un atributo MUY privado\n",
    "\n",
    "objeto = MiClase()\n",
    "print(objeto.__atributo_privado) # Esto retornara un error porque es un atributo muy privado"
   ]
  },
  {
   "cell_type": "markdown",
   "metadata": {},
   "source": [
    "### Getters y Setters"
   ]
  },
  {
   "cell_type": "markdown",
   "metadata": {},
   "source": [
    "Son metodos para acceder a los atributos y metodos privados.\n",
    "\n"
   ]
  },
  {
   "cell_type": "code",
   "execution_count": 58,
   "metadata": {},
   "outputs": [
    {
     "name": "stdout",
     "output_type": "stream",
     "text": [
      "Lucas\n",
      "David\n"
     ]
    }
   ],
   "source": [
    "class Persona:\n",
    "    def __init__(self,nombre,edad):\n",
    "        self._nombre = nombre\n",
    "        self._edad = edad\n",
    "\n",
    "    def get_nombre(self):\n",
    "        return self._nombre\n",
    "    \n",
    "    def set_nombre(self, new_nombre):\n",
    "        self._nombre = new_nombre\n",
    "        \n",
    "dalto = Persona(\"Lucas\", 21)\n",
    "\n",
    "nombre = dalto.get_nombre()\n",
    "print(nombre)\n",
    "\n",
    "# Re establecemos el valor\n",
    "\n",
    "dalto.set_nombre(\"David\")\n",
    "nombre = dalto.get_nombre()\n",
    "\n",
    "print(nombre)"
   ]
  },
  {
   "cell_type": "markdown",
   "metadata": {},
   "source": [
    "## Decoradores"
   ]
  },
  {
   "cell_type": "markdown",
   "metadata": {},
   "source": [
    "Es una funcion especial que decora a otra. Es decir, agrega un codigo extra a la funcion que decora.<br/>\n",
    "\n",
    "Sirve para hacer validaciones"
   ]
  },
  {
   "cell_type": "code",
   "execution_count": 61,
   "metadata": {},
   "outputs": [
    {
     "name": "stdout",
     "output_type": "stream",
     "text": [
      "Antes de llamar a la funcion\n",
      "Hola David como andas\n"
     ]
    }
   ],
   "source": [
    "# Lógica básica de un decorador\n",
    "\n",
    "def decorador(funcion): \n",
    "    def funcion_modificada():\n",
    "        print(\"Antes de llamar a la funcion\")\n",
    "        funcion()\n",
    "    return funcion_modificada\n",
    "\n",
    "def saludo():\n",
    "    print(\"Hola David como andas\")\n",
    "\n",
    "saludo_modificado = decorador(saludo) # Notese que hay que asignar el decorador a una variable\n",
    "saludo_modificado()"
   ]
  },
  {
   "cell_type": "markdown",
   "metadata": {},
   "source": [
    "Ahora esta es al forma correcta de usar un decorador en Python:"
   ]
  },
  {
   "cell_type": "code",
   "execution_count": 62,
   "metadata": {},
   "outputs": [
    {
     "name": "stdout",
     "output_type": "stream",
     "text": [
      "Antes de llamar a la funcion\n",
      "Hola David como vas?\n"
     ]
    }
   ],
   "source": [
    "def decorador(funcion): \n",
    "    def funcion_modificada():\n",
    "        print(\"Antes de llamar a la funcion\")\n",
    "        funcion()\n",
    "    return funcion_modificada\n",
    "\n",
    "\n",
    "@decorador\n",
    "def saludo():\n",
    "    print(\"Hola David como vas?\")\n",
    "\n",
    "saludo()"
   ]
  },
  {
   "cell_type": "markdown",
   "metadata": {},
   "source": [
    "#### Properties"
   ]
  },
  {
   "cell_type": "code",
   "execution_count": 64,
   "metadata": {},
   "outputs": [
    {
     "name": "stdout",
     "output_type": "stream",
     "text": [
      "Lucas\n"
     ]
    }
   ],
   "source": [
    "class Persona:\n",
    "    def __init__(self,nombre,edad):\n",
    "        self._nombre = nombre\n",
    "        self._edad = edad\n",
    "\n",
    "    @property\n",
    "    def nombre(self):\n",
    "        return self._nombre # Usando el decorador @property, ya nombre se convierte en un atributo\n",
    "        \n",
    "dalto = Persona(\"Lucas\", 21)\n",
    "\n",
    "nombre = dalto.nombre\n",
    "print(nombre)"
   ]
  },
  {
   "cell_type": "markdown",
   "metadata": {},
   "source": [
    "## Abstracción"
   ]
  },
  {
   "cell_type": "markdown",
   "metadata": {},
   "source": [
    "Ocultar la complejidad de un programa, mostrándole a un usuario solo lo sencillo."
   ]
  },
  {
   "cell_type": "code",
   "execution_count": 65,
   "metadata": {},
   "outputs": [
    {
     "name": "stdout",
     "output_type": "stream",
     "text": [
      "El auto está encendido\n",
      "Conduciente el auto\n"
     ]
    }
   ],
   "source": [
    "class Auto():\n",
    "    def __init__(self):\n",
    "        self._estado = \"apagado\"\n",
    "\n",
    "    def encender(self):\n",
    "        self._estado = \"encendido\"\n",
    "        print(\"El auto está encendido\")\n",
    "\n",
    "    def conducir(self):\n",
    "        if self._estado == \"apagado\":\n",
    "            self.encender()\n",
    "        print(\"Conduciende el auto\")\n",
    "\n",
    "mi_auto = Auto()\n",
    "mi_auto.conducir() # El metodo conducir le oculta al usuario la complejidad de previamente verificar si el auto esta encendido"
   ]
  },
  {
   "cell_type": "markdown",
   "metadata": {},
   "source": [
    "________________________________________________"
   ]
  },
  {
   "cell_type": "markdown",
   "metadata": {},
   "source": [
    "Desde la propiedad de abstraccion, las notas fueron mas regulares..."
   ]
  },
  {
   "cell_type": "markdown",
   "metadata": {},
   "source": [
    "### Clase abstracta"
   ]
  },
  {
   "cell_type": "code",
   "execution_count": 69,
   "metadata": {},
   "outputs": [
    {
     "name": "stdout",
     "output_type": "stream",
     "text": [
      "Estoy estudiando: programador\n"
     ]
    }
   ],
   "source": [
    "from abc import ABC, abstractclassmethod\n",
    "\n",
    "class Persona(ABC):\n",
    "    @abstractclassmethod\n",
    "    def __init__(self, nombre, edad, sexo, actividad):\n",
    "        self.nombre = nombre\n",
    "        self.edad = edad\n",
    "        self.sexo = sexo\n",
    "        self.actividad = actividad\n",
    "\n",
    "    @abstractclassmethod\n",
    "    def hacer_actividad(self):\n",
    "        pass\n",
    "\n",
    "    def presentarse(self):\n",
    "        print(f\"Hola me llamo {self.nombre} y tengo {self.edad} años\")\n",
    "\n",
    "class Estudiante(Persona):\n",
    "    def __init__(self, nombre, edad, sexo, actividad):\n",
    "        super().__init__(nombre, edad,sexo,actividad)\n",
    "\n",
    "    def hacer_actividad(self):\n",
    "        print(f\"Estoy estudiando: {self.actividad}\")\n",
    "\n",
    "dalto = Estudiante(\"Lucas\", 21, \"masculino\", \"programador\")\n",
    "\n",
    "dalto.hacer_actividad()"
   ]
  },
  {
   "cell_type": "code",
   "execution_count": null,
   "metadata": {},
   "outputs": [],
   "source": []
  },
  {
   "cell_type": "code",
   "execution_count": null,
   "metadata": {},
   "outputs": [],
   "source": []
  },
  {
   "cell_type": "markdown",
   "metadata": {},
   "source": [
    "## Métodos especiales"
   ]
  },
  {
   "cell_type": "markdown",
   "metadata": {},
   "source": []
  }
 ],
 "metadata": {
  "kernelspec": {
   "display_name": "nlp_study",
   "language": "python",
   "name": "python3"
  },
  "language_info": {
   "codemirror_mode": {
    "name": "ipython",
    "version": 3
   },
   "file_extension": ".py",
   "mimetype": "text/x-python",
   "name": "python",
   "nbconvert_exporter": "python",
   "pygments_lexer": "ipython3",
   "version": "3.10.14"
  }
 },
 "nbformat": 4,
 "nbformat_minor": 2
}
