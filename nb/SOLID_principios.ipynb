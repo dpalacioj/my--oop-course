{
 "cells": [
  {
   "cell_type": "markdown",
   "metadata": {},
   "source": [
    "# Principios SOLID"
   ]
  },
  {
   "cell_type": "markdown",
   "metadata": {},
   "source": [
    "El código debe de ser fácil de mantener en el tiempo.<br/>\n",
    "Además debe de ser diseñado de tal forma que los módulos, clases y funciones sean reutilizables.<br/>\n",
    "Debe ser un codigo legible para cualquier otro desarrollador. <br/>\n",
    "Debe ser extensible sin afectar su funcionamiento."
   ]
  },
  {
   "cell_type": "markdown",
   "metadata": {},
   "source": [
    "**1. SRP: PRINCIPIO DE RESPONSABILIDAD UNICA**\n",
    "\n",
    "Una clase debe tener una sola razon para cambiarla. Es decir, que solo se encargue de hacer una cosa.\n",
    "Evita que las clases tengan multifunciones."
   ]
  },
  {
   "cell_type": "markdown",
   "metadata": {},
   "source": [
    "En el ejemplo del auto, no es bueno que una misma clase haga mover el carro y a su vez le agregue combustible."
   ]
  },
  {
   "cell_type": "markdown",
   "metadata": {},
   "source": []
  }
 ],
 "metadata": {
  "kernelspec": {
   "display_name": "mlops",
   "language": "python",
   "name": "python3"
  },
  "language_info": {
   "name": "python",
   "version": "3.10.14"
  }
 },
 "nbformat": 4,
 "nbformat_minor": 2
}
