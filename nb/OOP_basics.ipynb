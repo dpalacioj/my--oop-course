{
 "cells": [
  {
   "cell_type": "markdown",
   "metadata": {},
   "source": [
    "# OOP from Basics"
   ]
  },
  {
   "cell_type": "markdown",
   "metadata": {},
   "source": [
    "The following code demonstrates a simple random search for numbers. It works perfectly in its current form. However, if we want to enhance the program with more features, it might become problematic. This is where Object-Oriented Programmin (OOP) comes in."
   ]
  },
  {
   "cell_type": "code",
   "execution_count": null,
   "metadata": {},
   "outputs": [],
   "source": [
    "# Secret number program\n",
    "\n",
    "secret_number = 20\n",
    "\n",
    "while True:\n",
    "    number = input(\"Guess the number: \")\n",
    "\n",
    "    try:\n",
    "        number = int(number)\n",
    "    except ValueError:\n",
    "        print('Sorry that is not a number')\n",
    "        continue\n",
    "\n",
    "    if number != secret_number:\n",
    "        if number > secret_number:\n",
    "            print(number, 'is greater than the secret number')\n",
    "\n",
    "        elif number < secret_number:\n",
    "            print(number, 'is less than the secret number')\n",
    "    else:\n",
    "        print('You guessed the number:', secret_number)\n",
    "        break"
   ]
  },
  {
   "cell_type": "markdown",
   "metadata": {},
   "source": [
    "**Object-Oriented Programming (OOP)** allows you to code more efficiently. This doesn't necessarily mean fewer lines of code; rather, it means you can use and implement more functions in less time.\n",
    "\n",
    "* **Code Reusability:** OOP enables code reuse through the concept of abstraction.\n",
    "\n",
    "* **Avoiding \"Spaguetti\" Code:** OOP helps prevent \"spaguetti\" code by encapsulating logic within objects, thereby avoiding deeply nested \"if\" statements."
   ]
  },
  {
   "cell_type": "markdown",
   "metadata": {},
   "source": [
    "_________________"
   ]
  },
  {
   "cell_type": "markdown",
   "metadata": {},
   "source": [
    "Let's look at another example that tries to simulate coffee sales. In this example, you will compare spaghetti code versus OOP code and quickly find the differences."
   ]
  },
  {
   "cell_type": "code",
   "execution_count": 3,
   "metadata": {},
   "outputs": [
    {
     "name": "stdout",
     "output_type": "stream",
     "text": [
      "You can afford the regular sandwich\n",
      "Your change is 2\n"
     ]
    }
   ],
   "source": [
    "# Prices of sandwiches\n",
    "small = 2\n",
    "regular = 5\n",
    "big = 8\n",
    "\n",
    "# Get user's budget\n",
    "# Use 'int' numbers only\n",
    "user_budget = input('What is your budget? ')\n",
    "\n",
    "# Check if the input is a valid number\n",
    "try:\n",
    "    user_budget = int(user_budget)\n",
    "except ValueError:\n",
    "    print('Please enter a valid number')\n",
    "    exit()\n",
    "\n",
    "# Determine what the user can afford\n",
    "if user_budget > 0:\n",
    "    if user_budget >= big:\n",
    "        print(\"You can afford the big sandwich\")\n",
    "        if user_budget == big:\n",
    "            print('You have no change left.')\n",
    "        else:\n",
    "            print('Your change is', user_budget - big)\n",
    "    elif user_budget >= regular:\n",
    "        print('You can afford the regular sandwich')\n",
    "        if user_budget == regular:\n",
    "            print('You have no change left.')\n",
    "        else:\n",
    "            print('Your change is', user_budget - regular)\n",
    "    elif user_budget >= small:\n",
    "        print('You can afford the small sandwich')\n",
    "        if user_budget == small:\n",
    "            print('You have no change left.')\n",
    "        else:\n",
    "            print('Your change is', user_budget - small)\n",
    "    else:\n",
    "        print('You cannot afford any sandwich')\n",
    "else:\n",
    "    print('Please enter a positive number')"
   ]
  },
  {
   "cell_type": "markdown",
   "metadata": {},
   "source": [
    "**Disadvantages**:\n",
    "* A lot of repeated logic.\n",
    "* Many nested if statements.\n",
    "* Hard to read and modify eventually.\n",
    "\n",
    "Let's look at the OPP example:"
   ]
  },
  {
   "cell_type": "code",
   "execution_count": null,
   "metadata": {},
   "outputs": [],
   "source": [
    "class Sandwich:\n",
    "    # Constructor\n",
    "    def __init__(self, name, price):\n",
    "        self.name = name\n",
    "        self.price = float(price)\n",
    "\n",
    "    def check_budget(self, budget):\n",
    "        # Check if the budget is valid\n",
    "        if not isinstance(budget, (int,float)):\n",
    "            print('Please enter a valid number (float or int)')\n",
    "            exit()\n",
    "        if budget < 0:\n",
    "            print('Sorry, you don\\'t have money')\n",
    "            exit()\n",
    "\n",
    "    def get_change(self, budget):\n",
    "        return budget - self.price\n",
    "    \n",
    "    def sell(self, budget):\n",
    "        self.check_budget(budget)\n",
    "        if budget >= self.price:\n",
    "            print(f'You can buy the {self.name} sandwich')\n",
    "            if budget == self.price:\n",
    "                print('You have no change left')\n",
    "            else:\n",
    "                print(f'Here is your change {self.get_change(budget)}$')\n",
    "            print('Thanks for you transaction')\n",
    "        else:\n",
    "            print(f'Sorry, you cannot afford the {self.name} sanwich')"
   ]
  },
  {
   "cell_type": "markdown",
   "metadata": {},
   "source": [
    "The code mentioned above represents a class called \"Sandwich\". It has two attributes called \"name\" and \"price\", and both are used in the methods. </br>\n",
    "The main method is called \"sell\", which processes all the logic needed to complethe the cell process.\n",
    "\n",
    "*If you try to execute the class, you will not have any output. This happens because we are declaring a **blueprint** for the sandiwch, not the sandwich itself.* <br/>\n",
    "\n",
    "Now, we are going to create instances or objects of the `Sandwich` class, and then we will call the `sell` method for each sandwich until the user has paid for an option."
   ]
  },
  {
   "cell_type": "code",
   "execution_count": 5,
   "metadata": {},
   "outputs": [
    {
     "name": "stdout",
     "output_type": "stream",
     "text": [
      "Sorry, you cannot afford the Big sanwich\n",
      "You can buy the Regular sandwich\n",
      "You have no change left\n",
      "Thanks for you transaction\n",
      "You can buy the Small sandwich\n",
      "Here is your change 3.0$\n",
      "Thanks for you transaction\n"
     ]
    }
   ],
   "source": [
    "small = Sandwich('Small', 2)\n",
    "regular = Sandwich('Regular', 5)\n",
    "big = Sandwich('Big', 6)\n",
    "\n",
    "try:\n",
    "    user_budget = float(input('What is your budget?'))\n",
    "except ValueError:\n",
    "    exit('Please enter a number')\n",
    "\n",
    "for sandwich in [big, regular, small]:\n",
    "    sandwich.sell(user_budget)"
   ]
  },
  {
   "cell_type": "markdown",
   "metadata": {},
   "source": [
    "We use objects in Python all the time. Remember the definition of an object: it is a unique collection of data (attributes) and behaviors (methods).<br/>\n",
    "\n",
    "**Atributes** are **variables** inside the **objects**. On the other hand, **methods** are functions that define some behavior.\n",
    "\n",
    "_______________"
   ]
  },
  {
   "cell_type": "code",
   "execution_count": 9,
   "metadata": {},
   "outputs": [
    {
     "data": {
      "text/plain": [
       "'ITS A LANGUAGE USED TO QUERY MULTIPLE THINGS INSIDE RELATIONAL DATABASES'"
      ]
     },
     "execution_count": 9,
     "metadata": {},
     "output_type": "execute_result"
    }
   ],
   "source": [
    "sql = 'Its a language used to query multiple things inside relational databases'\n",
    "sql.upper()"
   ]
  },
  {
   "cell_type": "markdown",
   "metadata": {},
   "source": [
    "In the second line above we are calling the `upper()` method on the string `sql`. This method returns the content of the string in all uppercase letters. However, it does not change the original variable."
   ]
  },
  {
   "cell_type": "code",
   "execution_count": 7,
   "metadata": {},
   "outputs": [
    {
     "data": {
      "text/plain": [
       "'Its a language used to query multiple things inside relational databases'"
      ]
     },
     "execution_count": 7,
     "metadata": {},
     "output_type": "execute_result"
    }
   ],
   "source": [
    "sql"
   ]
  },
  {
   "cell_type": "markdown",
   "metadata": {},
   "source": [
    "The `type` function returns the class to which an object belongs.<br/>\n",
    "The `dir` function returns all the attributes and methods of an object."
   ]
  },
  {
   "cell_type": "code",
   "execution_count": 10,
   "metadata": {},
   "outputs": [
    {
     "data": {
      "text/plain": [
       "str"
      ]
     },
     "execution_count": 10,
     "metadata": {},
     "output_type": "execute_result"
    }
   ],
   "source": [
    "type(sql)"
   ]
  },
  {
   "cell_type": "code",
   "execution_count": 11,
   "metadata": {},
   "outputs": [
    {
     "data": {
      "text/plain": [
       "['__add__',\n",
       " '__class__',\n",
       " '__contains__',\n",
       " '__delattr__',\n",
       " '__dir__',\n",
       " '__doc__',\n",
       " '__eq__',\n",
       " '__format__',\n",
       " '__ge__',\n",
       " '__getattribute__',\n",
       " '__getitem__',\n",
       " '__getnewargs__',\n",
       " '__gt__',\n",
       " '__hash__',\n",
       " '__init__',\n",
       " '__init_subclass__',\n",
       " '__iter__',\n",
       " '__le__',\n",
       " '__len__',\n",
       " '__lt__',\n",
       " '__mod__',\n",
       " '__mul__',\n",
       " '__ne__',\n",
       " '__new__',\n",
       " '__reduce__',\n",
       " '__reduce_ex__',\n",
       " '__repr__',\n",
       " '__rmod__',\n",
       " '__rmul__',\n",
       " '__setattr__',\n",
       " '__sizeof__',\n",
       " '__str__',\n",
       " '__subclasshook__',\n",
       " 'capitalize',\n",
       " 'casefold',\n",
       " 'center',\n",
       " 'count',\n",
       " 'encode',\n",
       " 'endswith',\n",
       " 'expandtabs',\n",
       " 'find',\n",
       " 'format',\n",
       " 'format_map',\n",
       " 'index',\n",
       " 'isalnum',\n",
       " 'isalpha',\n",
       " 'isascii',\n",
       " 'isdecimal',\n",
       " 'isdigit',\n",
       " 'isidentifier',\n",
       " 'islower',\n",
       " 'isnumeric',\n",
       " 'isprintable',\n",
       " 'isspace',\n",
       " 'istitle',\n",
       " 'isupper',\n",
       " 'join',\n",
       " 'ljust',\n",
       " 'lower',\n",
       " 'lstrip',\n",
       " 'maketrans',\n",
       " 'partition',\n",
       " 'removeprefix',\n",
       " 'removesuffix',\n",
       " 'replace',\n",
       " 'rfind',\n",
       " 'rindex',\n",
       " 'rjust',\n",
       " 'rpartition',\n",
       " 'rsplit',\n",
       " 'rstrip',\n",
       " 'split',\n",
       " 'splitlines',\n",
       " 'startswith',\n",
       " 'strip',\n",
       " 'swapcase',\n",
       " 'title',\n",
       " 'translate',\n",
       " 'upper',\n",
       " 'zfill']"
      ]
     },
     "execution_count": 11,
     "metadata": {},
     "output_type": "execute_result"
    }
   ],
   "source": [
    "dir(sql)"
   ]
  },
  {
   "cell_type": "markdown",
   "metadata": {},
   "source": [
    "Also you can check if an object is instance from a class using `isinstance()`"
   ]
  },
  {
   "cell_type": "code",
   "execution_count": 13,
   "metadata": {},
   "outputs": [
    {
     "data": {
      "text/plain": [
       "True"
      ]
     },
     "execution_count": 13,
     "metadata": {},
     "output_type": "execute_result"
    }
   ],
   "source": [
    "isinstance(small, Sandwich)"
   ]
  },
  {
   "cell_type": "markdown",
   "metadata": {},
   "source": [
    "In summary, a class is a blueprint that allows us to create personalized objects based on attributes and methods. <br/>\n",
    "On the other hand, an instance is an individual object that belongs to a class, with a unique memory address."
   ]
  },
  {
   "cell_type": "markdown",
   "metadata": {},
   "source": [
    "## Constructor Method"
   ]
  },
  {
   "cell_type": "markdown",
   "metadata": {},
   "source": [
    "The `__init__` method is also known as the \"constructor\". It is called by Python each time an object is instantiated. It builds the initial state of the object with the minimum parameters needed for it to exist.<br/>\n",
    "\n",
    "Let's see the following example:"
   ]
  },
  {
   "cell_type": "code",
   "execution_count": 15,
   "metadata": {},
   "outputs": [],
   "source": [
    "class IceCream:\n",
    "    # Constructor\n",
    "    def __init__(self, name, shape, chips='Chocolate'):\n",
    "        # Instance attributes\n",
    "        self.name = name\n",
    "        self.shape = shape\n",
    "        self.chips = chips"
   ]
  },
  {
   "cell_type": "markdown",
   "metadata": {},
   "source": [
    "In the `IceCream` class, each ice cream must have a name, shape, and chips. On the other hand, `self` refers to the instance of the class (the object)."
   ]
  },
  {
   "cell_type": "code",
   "execution_count": 16,
   "metadata": {},
   "outputs": [
    {
     "ename": "TypeError",
     "evalue": "IceCream.__init__() missing 2 required positional arguments: 'name' and 'shape'",
     "output_type": "error",
     "traceback": [
      "\u001b[0;31m---------------------------------------------------------------------------\u001b[0m",
      "\u001b[0;31mTypeError\u001b[0m                                 Traceback (most recent call last)",
      "Cell \u001b[0;32mIn[16], line 1\u001b[0m\n\u001b[0;32m----> 1\u001b[0m cream2 \u001b[38;5;241m=\u001b[39m \u001b[43mIceCream\u001b[49m\u001b[43m(\u001b[49m\u001b[43m)\u001b[49m\n",
      "\u001b[0;31mTypeError\u001b[0m: IceCream.__init__() missing 2 required positional arguments: 'name' and 'shape'"
     ]
    }
   ],
   "source": [
    "cream2 = IceCream()"
   ]
  },
  {
   "cell_type": "markdown",
   "metadata": {},
   "source": [
    "In the code above, you would encounter an error because the constructor expects positional arguments to be provided. The minimum set of data needed to create the object includes `name`, `shape` and `chips`. <br/>\n",
    "\n",
    "To access the instance attributes, you need to do the following:"
   ]
  },
  {
   "cell_type": "code",
   "execution_count": 17,
   "metadata": {},
   "outputs": [
    {
     "name": "stdout",
     "output_type": "stream",
     "text": [
      "vanilla\n",
      "cone\n",
      "chocolate\n"
     ]
    }
   ],
   "source": [
    "cream2 = IceCream('vanilla', 'cone', 'chocolate')\n",
    "print(cream2.name)\n",
    "print(cream2.shape)\n",
    "print(cream2.chips)"
   ]
  },
  {
   "cell_type": "code",
   "execution_count": 19,
   "metadata": {},
   "outputs": [],
   "source": [
    "class IceCream:\n",
    "    # Constructor\n",
    "    def __init__(self, name, shape, chips='Chocolate'):\n",
    "        # Instance attributes\n",
    "        self.name = name\n",
    "        self.shape = shape\n",
    "        self.chips = chips\n",
    "\n",
    "    # The object is passing itself as a parameter\n",
    "    def freeze(self):\n",
    "        print(f'This {self.name}, is being frozen with the sahpe {self.shape} and chips of {self.chips}')\n",
    "        print('Enjoy your ice cream!')"
   ]
  },
  {
   "cell_type": "code",
   "execution_count": 20,
   "metadata": {},
   "outputs": [
    {
     "name": "stdout",
     "output_type": "stream",
     "text": [
      "This vanilla, is being frozen with the sahpe cone and chips of chocolate\n",
      "Enjoy your ice cream!\n"
     ]
    }
   ],
   "source": [
    "ice_cream = IceCream('vanilla', 'cone', 'chocolate')\n",
    "ice_cream.freeze()"
   ]
  },
  {
   "cell_type": "markdown",
   "metadata": {},
   "source": [
    "## The Four Pilars of OOP in Python"
   ]
  },
  {
   "cell_type": "markdown",
   "metadata": {},
   "source": [
    "Object Oriented Programming includes four main pillars:\n",
    "\n",
    "### 1. Abstraction\n",
    "Abstraction hides the internal functionality of an application from the user. This user can be the end customer or other developers. In coding, abstraction allows you to gather all the objects of a problem and abstract functionality into classes.<br/>\n",
    "**Example:** You know how to use your phone, but you probabli don't know what happens inside it every time you open an app.\n",
    "\n",
    "### 2. Inheritance\n",
    "It lets you define multiple subclasses from an already defined class. You can reuse a lot of code by implementing all shared components in superclasses. \n",
    "\n",
    "### 3. Polymorphism\n",
    "It allow us to slightly modify methods and attributes of subclasses that were previously defined in the superclass. Literally meaning \"many forms\", we create methods with the same name but different functionality.\n",
    "\n",
    "### 4. Encapsulation\n",
    "It is the process of protecting the internal integrity of data within a class. Although Python does not have private declarations, you can apply encapsulation using *mangling*. Special methods called getters and setters allow access to unique attributes and methods.\n",
    "**Example:** Consider a class `Human` with an attribute `_height`. This attribute can only be modified within certain retrictions (it's almos impossible to be taller than 3 meters)."
   ]
  },
  {
   "cell_type": "code",
   "execution_count": 21,
   "metadata": {},
   "outputs": [
    {
     "name": "stdout",
     "output_type": "stream",
     "text": [
      "1.7\n",
      "2.5\n",
      "Height must be between 0 and 3 meters\n"
     ]
    }
   ],
   "source": [
    "# Encapsulation\n",
    "\n",
    "class Human:\n",
    "    def __init__(self, name, height):\n",
    "        self.name = name\n",
    "        self._height = height # PROTECTED ATTRIBUTE\n",
    "\n",
    "    # Getter method for _height\n",
    "    def get_height(self):\n",
    "        return self._height\n",
    "    \n",
    "    # Setter method for _height with encapsulation\n",
    "    def set_height(self, height):\n",
    "        if 0 < height <= 3: # Setting restriction for height\n",
    "            self._height = height\n",
    "        else:\n",
    "            raise ValueError(\"Height must be between 0 and 3 meters\")\n",
    "        \n",
    "# Creating an instance of Human\n",
    "person = Human(\"Alice\", 1.7)\n",
    "\n",
    "# Accessing height using getter\n",
    "print(person.get_height())\n",
    "\n",
    "# Trying to set height using setter\n",
    "person.set_height(2.5)\n",
    "print(person.get_height())\n",
    "\n",
    "# Attempting to set an invalid height\n",
    "try:\n",
    "    person.set_height(3.5)\n",
    "except ValueError as e:\n",
    "    print(e)\n",
    "\n"
   ]
  },
  {
   "cell_type": "markdown",
   "metadata": {},
   "source": [
    "## Hands-On Exercise"
   ]
  },
  {
   "cell_type": "markdown",
   "metadata": {},
   "source": [
    "Now we are going to create a calculator to solve area problems. The main objective is to solve the area of squares, rectangles, triangles, and hexagons.<br/>\n",
    "\n",
    "First of all, let's analyze what these shapes have in common. One thing is that all of them are 2D shapes. This is the reason to create a `shape` class with a method `get_area()` that each shape will inherit.<br/>\n",
    "\n",
    "**NOTE: All methods should be verbs. It is a good practice.**"
   ]
  },
  {
   "cell_type": "code",
   "execution_count": 22,
   "metadata": {},
   "outputs": [],
   "source": [
    "class Shape:\n",
    "    def __init__(self):\n",
    "        pass\n",
    "\n",
    "    def get_area(self):\n",
    "        pass"
   ]
  },
  {
   "cell_type": "code",
   "execution_count": 26,
   "metadata": {},
   "outputs": [],
   "source": [
    "class Shape:\n",
    "    def __init__(self, side1, side2):\n",
    "        self.side1 = side1\n",
    "        self.side2 = side2\n",
    "\n",
    "    def get_area(self):\n",
    "        return self.side1 * self.side2\n",
    "    \n",
    "    def __str__(self):\n",
    "        return f'The area of this {self.__class__.__name__} is: {self.get_area()}'"
   ]
  },
  {
   "cell_type": "markdown",
   "metadata": {},
   "source": [
    "Let's break down what we are doing with above code:\n",
    "1. `__init__` method:\n",
    "We are requesting two **parameters**, `side1` and `side2`. These will be stored as attributes of the instance. This method initialize the object's state.\n",
    "\n",
    "2. `get_area()` method:\n",
    "It returns the area of the shape. In this case, it uses the formula for the area of rectangle, which is a simple example to extend to other shapes later.\n",
    "\n",
    "3. `__str__` method:\n",
    "This method is a \"magic method\" like `__init__`. It allows us to define how an instance of the class will be printed when we use the `print()` function or `str()` function on it.\n",
    "    * This method returns a string that includes the area of the shape.\n",
    "    * The expresssion `self.__class__.___name__` dynamically retrieves the name of the class of the current instance. If you are working with an instance of a class `Triangle`, this attribute would return the string `\"Triangle\"`.\n",
    "    * By using `self.__class__.___name__`, the `__str__` method provides a clear, human-readable message that includes name and calculated area of the shape."
   ]
  },
  {
   "cell_type": "code",
   "execution_count": 27,
   "metadata": {},
   "outputs": [
    {
     "name": "stdout",
     "output_type": "stream",
     "text": [
      "The area of this Shape is: 20\n"
     ]
    }
   ],
   "source": [
    "# Example of how to use the Shape class\n",
    "\n",
    "shape = Shape(4, 5)\n",
    "print(shape)  # Output: The area of this Shape is: 20"
   ]
  },
  {
   "cell_type": "markdown",
   "metadata": {},
   "source": [
    "#### Rectangle Class"
   ]
  },
  {
   "cell_type": "markdown",
   "metadata": {},
   "source": [
    "Here's how you can implement the `Rectangle` class by **inheriting** from the `Shape` class."
   ]
  },
  {
   "cell_type": "code",
   "execution_count": 31,
   "metadata": {},
   "outputs": [],
   "source": [
    "class Rectangle(Shape): # Superclass in Parenthesis\n",
    "    pass"
   ]
  },
  {
   "cell_type": "code",
   "execution_count": 32,
   "metadata": {},
   "outputs": [
    {
     "name": "stdout",
     "output_type": "stream",
     "text": [
      "The area of this Rectangle is: 20\n"
     ]
    }
   ],
   "source": [
    "rectangle = Rectangle(4, 5)\n",
    "print(rectangle)  # Output: The area of this Rectangle is: 20"
   ]
  },
  {
   "cell_type": "markdown",
   "metadata": {},
   "source": [
    "#### Square Class"
   ]
  },
  {
   "cell_type": "markdown",
   "metadata": {},
   "source": [
    "We can make an excellent demonstration of **polymorphism** with `square` class. Remember that a square is just a rectangle with all four sides equal. This means we can use the same formula to calculate the area.<br/>\n",
    "\n",
    "We can achieve this by modifying the `__init__` method to accept only one parameter, `side`, and passing that side value to the constructor of the `Rectangle` class."
   ]
  },
  {
   "cell_type": "code",
   "execution_count": 33,
   "metadata": {},
   "outputs": [],
   "source": [
    "class Square(Rectangle):\n",
    "    def __init__(self, side):\n",
    "        super().__init__(side, side)"
   ]
  },
  {
   "cell_type": "markdown",
   "metadata": {},
   "source": [
    "As you can see, the `super` function passes the `side` parameter twice to the superclass. In other words, it is passing `side` as both `side1` and `side2` to the previously defined constructor."
   ]
  },
  {
   "cell_type": "markdown",
   "metadata": {},
   "source": [
    "### Triangle Class"
   ]
  },
  {
   "cell_type": "markdown",
   "metadata": {},
   "source": [
    "The `Triangle` class is half of the rectangle around it. Therefore, inheriting from the `Rectangle` class and modifying the `get_area` method could be a good idea."
   ]
  },
  {
   "cell_type": "code",
   "execution_count": 34,
   "metadata": {},
   "outputs": [],
   "source": [
    "class Triangle(Rectangle):\n",
    "    def __init__(self, base, height):\n",
    "        super().__init__(base, height)\n",
    "\n",
    "    def get_area(self):\n",
    "        area = super().get_area()\n",
    "        return area / 2"
   ]
  },
  {
   "cell_type": "markdown",
   "metadata": {},
   "source": [
    "Another use case of the `super()` function is to call a method defined in the superclass and store the result as a variable. This is what happens inside `get_area()` method."
   ]
  },
  {
   "cell_type": "markdown",
   "metadata": {},
   "source": [
    "#### **Why Use super()?**\n",
    "\n",
    "The super() function is used to give access to methods and properties of a parent or sibling class. It returns a temporary object of the superclass that allows you to call its methods. In our example:\n",
    "\n",
    "* `super().__init__(base, height)` in the `Triangle class` calls the `__init__` method of the Rectangle class to initialize the base and height attributes.\n",
    "* `super().get_area()` in the get_area method of the `Triangle class` calls the `get_area` method of the `Rectangle class`, which calculates the area of the corresponding rectangle.\n",
    "\n",
    "By using super(), we can ensure that we are extending the functionality of the superclass method rather than completely overriding it. This allows us to build on existing functionality and promote code reuse."
   ]
  },
  {
   "cell_type": "markdown",
   "metadata": {},
   "source": [
    "### Circle Class"
   ]
  },
  {
   "cell_type": "code",
   "execution_count": 35,
   "metadata": {},
   "outputs": [],
   "source": [
    "from math import pi\n",
    "\n",
    "class Circle(Shape):\n",
    "    def __init__(self, radius):\n",
    "        self.radius = radius\n",
    "\n",
    "    def get_area(self):\n",
    "        return pi * (self.radius ** 2)"
   ]
  },
  {
   "cell_type": "markdown",
   "metadata": {},
   "source": [
    "### Hexagon Class"
   ]
  },
  {
   "cell_type": "markdown",
   "metadata": {},
   "source": [
    "We only need the length of one side of a regular hexagon to calculate its area. It is similar to the `Square` class, where we only pass one argument to the constructor."
   ]
  },
  {
   "cell_type": "code",
   "execution_count": 38,
   "metadata": {},
   "outputs": [],
   "source": [
    "# Import square root\n",
    "from math import sqrt\n",
    " \n",
    "class Hexagon(Square):\n",
    "\t\n",
    "\tdef get_area(self):\n",
    "\t\treturn (3 * sqrt(3) * self.side1 ** 2) / 2"
   ]
  },
  {
   "cell_type": "markdown",
   "metadata": {},
   "source": [
    "### Example of Use"
   ]
  },
  {
   "cell_type": "code",
   "execution_count": 39,
   "metadata": {},
   "outputs": [
    {
     "name": "stdout",
     "output_type": "stream",
     "text": [
      "The area of this Rectangle is: 2\n",
      "The area of this Square is: 16\n",
      "The area of this Triangle is: 3.0\n",
      "The area of this Circle is: 50.26548245743669\n",
      "The area of this Hexagon is: 23.382685902179844\n"
     ]
    }
   ],
   "source": [
    "rec = Rectangle(1,2)\n",
    "print(rec)\n",
    "\n",
    "\n",
    "sqr = Square(4)\n",
    "print(sqr)\n",
    "\n",
    "\n",
    "tri = Triangle(2, 3)\n",
    "print(tri)\n",
    "\n",
    "\n",
    "cir = Circle(4)\n",
    "print(cir)\n",
    "\n",
    "\n",
    "hex = Hexagon(3)\n",
    "print(hex)"
   ]
  },
  {
   "cell_type": "markdown",
   "metadata": {},
   "source": [
    "## Challenge"
   ]
  },
  {
   "cell_type": "markdown",
   "metadata": {},
   "source": [
    "Create a class with a \"run\" method where the user can choose a shape and calculate its area."
   ]
  },
  {
   "cell_type": "code",
   "execution_count": 42,
   "metadata": {},
   "outputs": [],
   "source": [
    "class AreaCalculator:\n",
    "    def run(self):\n",
    "        print(\"Choose a shape to calculate the area:\")\n",
    "        print(\"1. Rectangle\")\n",
    "        print(\"2. Square\")\n",
    "        print(\"3. Triangle\")\n",
    "        print(\"4. Hexagon\")\n",
    "        choice = input(\"Enter the number of your choice: \")\n",
    "\n",
    "        if choice == \"1\":\n",
    "            width = float(input(\"Enter the width of the rectangle: \"))\n",
    "            height = float(input(\"Enter the height of the rectangle: \"))\n",
    "            shape = Rectangle(width, height)\n",
    "        elif choice == \"2\":\n",
    "            side = float(input(\"Enter the side length of the square: \"))\n",
    "            shape = Square(side)\n",
    "        elif choice == \"3\":\n",
    "            base = float(input(\"Enter the base length of the triangle: \"))\n",
    "            height = float(input(\"Enter the height of the triangle: \"))\n",
    "            shape = Triangle(base, height)\n",
    "        elif choice == \"4\":\n",
    "            side = float(input(\"Enter the side length of the hexagon: \"))\n",
    "            shape = Hexagon(side)\n",
    "        else:\n",
    "            print(\"Invalid choice.\")\n",
    "            return\n",
    "\n",
    "        print(shape)"
   ]
  },
  {
   "cell_type": "code",
   "execution_count": 43,
   "metadata": {},
   "outputs": [
    {
     "name": "stdout",
     "output_type": "stream",
     "text": [
      "Choose a shape to calculate the area:\n",
      "1. Rectangle\n",
      "2. Square\n",
      "3. Triangle\n",
      "4. Hexagon\n",
      "The area of this Hexagon is: 23.382685902179844\n"
     ]
    }
   ],
   "source": [
    "calculator = AreaCalculator()\n",
    "calculator.run()"
   ]
  },
  {
   "cell_type": "markdown",
   "metadata": {},
   "source": [
    "# References"
   ]
  },
  {
   "cell_type": "markdown",
   "metadata": {},
   "source": [
    "Here are some references that were used for this course:\n",
    "\n",
    "1. **Guía para Principiantes de la Programación Orientada a Objetos (POO) en Python**\n",
    "   - [Blog](https://kinsta.com/es/blog/programacion-orientada-objetos-python/)"
   ]
  },
  {
   "cell_type": "markdown",
   "metadata": {},
   "source": []
  }
 ],
 "metadata": {
  "kernelspec": {
   "display_name": "mlops",
   "language": "python",
   "name": "python3"
  },
  "language_info": {
   "codemirror_mode": {
    "name": "ipython",
    "version": 3
   },
   "file_extension": ".py",
   "mimetype": "text/x-python",
   "name": "python",
   "nbconvert_exporter": "python",
   "pygments_lexer": "ipython3",
   "version": "3.10.14"
  }
 },
 "nbformat": 4,
 "nbformat_minor": 2
}
